{
 "cells": [
  {
   "cell_type": "code",
   "execution_count": 20,
   "id": "7a79a72c",
   "metadata": {},
   "outputs": [],
   "source": [
    "import QuantLib as ql\n",
    "import math"
   ]
  },
  {
   "cell_type": "code",
   "execution_count": 21,
   "id": "b3969d9a",
   "metadata": {},
   "outputs": [],
   "source": [
    "calendar = ql.UnitedStates()\n",
    "businessConvention = ql.ModifiedFollowing\n",
    "settlementDays = 0\n",
    "daysCount = ql.ActualActual(ql.ActualActual.Bond)"
   ]
  },
  {
   "attachments": {
    "image.png": {
     "image/png": "[encoded data removed]"
    }
   },
   "cell_type": "markdown",
   "id": "09aa9ac4",
   "metadata": {},
   "source": [
    "## Option on Treasury Futures Contracts\n",
    "#### Let us model Treasury notes with the Black-Scholes equation. These examples will have static strike prices, spot prices, and volatility for this specific example. The future price at timer t, Ft, with a is modeled as:\n",
    "![image.png](attachment:image.png)\n",
    "#### where sigma is the volatility of the underlying, and dW is the Wiener process."
   ]
  },
  {
   "cell_type": "code",
   "execution_count": 34,
   "id": "84cd9a6a",
   "metadata": {},
   "outputs": [
    {
     "name": "stdout",
     "output_type": "stream",
     "text": [
      "Option Price 10-year note: 16.9979\n",
      "Delta               : -0.2491\n",
      "Gamma               : 0.0040\n",
      "Theta               : -1.2246\n",
      "Vega                : 125.2757\n",
      "Rho                 : -485.4006\n"
     ]
    }
   ],
   "source": [
    "# 10 year treasury note\n",
    "interestRate = 0.00105\n",
    "calcDate = ql.Date(1,12,2023)\n",
    "yieldCurve = ql.FlatForward(calcDate, interestRate, daysCount, ql.Compounded, ql.Continuous)\n",
    "\n",
    "ql.Settings.instance().evaluationDate = calcDate\n",
    "optionMaturityDate = ql.Date(24,12,2033)\n",
    "strike = 100\n",
    "spot = 125 # futures price\n",
    "volatility = 20/100.\n",
    "optionType = ql.Option.Put\n",
    "\n",
    "discount = yieldCurve.discount(optionMaturityDate)\n",
    "strikepayoff = ql.PlainVanillaPayoff(optionType, strike)\n",
    "T = yieldCurve.dayCounter().yearFraction(calcDate, optionMaturityDate)\n",
    "\n",
    "stddev = volatility*math.sqrt(T)\n",
    "black = ql.BlackCalculator(strikepayoff, spot, stddev, discount)\n",
    "\n",
    "print(\"%-20s: %4.4f\" %(\"Option Price 10-year note\", black.value() )) \n",
    "print(\"%-20s: %4.4f\" %(\"Delta\", black.delta(spot)))\n",
    "print(\"%-20s: %4.4f\" %(\"Gamma\", black.gamma(spot)))\n",
    "print(\"%-20s: %4.4f\" %(\"Theta\", black.theta(spot, T))) \n",
    "print(\"%-20s: %4.4f\" %(\"Vega\", black.vega(T)))\n",
    "print(\"%-20s: %4.4f\" %(\"Rho\", black.rho( T)))"
   ]
  },
  {
   "cell_type": "code",
   "execution_count": 23,
   "id": "0c0afd41",
   "metadata": {},
   "outputs": [
    {
     "name": "stdout",
     "output_type": "stream",
     "text": [
      "Option Price 2-year note: 28.9797\n",
      "Delta               : 0.8187\n",
      "Gamma               : 0.0072\n",
      "Theta               : -2.2330\n",
      "Vega                : 47.1543\n",
      "Rho                 : 152.8346\n"
     ]
    }
   ],
   "source": [
    "# 2 year note \n",
    "interestRate = 0.00105\n",
    "calcDate = ql.Date(1,12,2023)\n",
    "yieldCurve = ql.FlatForward(calcDate, interestRate, daysCount, ql.Compounded, ql.Continuous)\n",
    "\n",
    "ql.Settings.instance().evaluationDate = calcDate\n",
    "optionMaturityDate = ql.Date(24,12,2025)\n",
    "strike = 100\n",
    "spot = 125 # futures price\n",
    "volatility = 20/100.\n",
    "optionType = ql.Option.Call3-\n",
    "\n",
    "discount = yieldCurve.discount(optionMaturityDate)\n",
    "strikepayoff = ql.PlainVanillaPayoff(optionType, strike)\n",
    "T = yieldCurve.dayCounter().yearFraction(calcDate, optionMaturityDate)\n",
    "\n",
    "stddev = volatility*math.sqrt(T)\n",
    "\n",
    "black = ql.BlackCalculator(strikepayoff, spot, stddev, discount)\n",
    "\n",
    "print(\"%-20s: %4.4f\" %(\"Option Price 2-year note\", black.value() )) \n",
    "print(\"%-20s: %4.4f\" %(\"Delta\", black.delta(spot)))\n",
    "print(\"%-20s: %4.4f\" %(\"Gamma\", black.gamma(spot)))\n",
    "print(\"%-20s: %4.4f\" %(\"Theta\", black.theta(spot, T))) \n",
    "print(\"%-20s: %4.4f\" %(\"Vega\", black.vega(T)))\n",
    "print(\"%-20s: %4.4f\" %(\"Rho\", black.rho( T)))"
   ]
  },
  {
   "cell_type": "code",
   "execution_count": 24,
   "id": "70e33440",
   "metadata": {},
   "outputs": [
    {
     "name": "stdout",
     "output_type": "stream",
     "text": [
      "Option Price for 3-year note: 31.0964\n",
      "Delta               : 0.7888\n",
      "Gamma               : 0.0065\n",
      "Theta               : -2.0048\n",
      "Vega                : 62.8212\n",
      "Rho                 : 208.1196\n"
     ]
    }
   ],
   "source": [
    "# 3 year note \n",
    "interestRate = 0.00105\n",
    "calcDate = ql.Date(1,12,2023)\n",
    "yieldCurve = ql.FlatForward(calcDate, interestRate, daysCount, ql.Compounded, ql.Continuous)\n",
    "\n",
    "ql.Settings.instance().evaluationDate = calcDate\n",
    "optionMaturityDate = ql.Date(24,12,2026)\n",
    "strike = 100\n",
    "spot = 125 # futures price\n",
    "volatility = 20/100.\n",
    "optionType = ql.Option.Call\n",
    "\n",
    "discount = yieldCurve.discount(optionMaturityDate)\n",
    "strikepayoff = ql.PlainVanillaPayoff(optionType, strike)\n",
    "T = yieldCurve.dayCounter().yearFraction(calcDate, optionMaturityDate)\n",
    "\n",
    "stddev = volatility*math.sqrt(T)\n",
    "black = ql.BlackCalculator(strikepayoff, spot, stddev, discount)\n",
    "\n",
    "print(\"%-20s: %4.4f\" %(\"Option Price for 3-year note\", black.value() )) \n",
    "print(\"%-20s: %4.4f\" %(\"Delta\", black.delta(spot)))\n",
    "print(\"%-20s: %4.4f\" %(\"Gamma\", black.gamma(spot)))\n",
    "print(\"%-20s: %4.4f\" %(\"Theta\", black.theta(spot, T))) \n",
    "print(\"%-20s: %4.4f\" %(\"Vega\", black.vega(T)))\n",
    "print(\"%-20s: %4.4f\" %(\"Rho\", black.rho( T)))"
   ]
  },
  {
   "cell_type": "code",
   "execution_count": 25,
   "id": "9abb3750",
   "metadata": {},
   "outputs": [
    {
     "name": "stdout",
     "output_type": "stream",
     "text": [
      "Option Price for 5-year note: 34.7374\n",
      "Delta               : 0.7603\n",
      "Gamma               : 0.0054\n",
      "Theta               : -1.6608\n",
      "Vega                : 86.2795\n",
      "Rho                 : 306.5052\n"
     ]
    }
   ],
   "source": [
    "# 5 year note \n",
    "interestRate = 0.00105\n",
    "calcDate = ql.Date(1,12,2023)\n",
    "yieldCurve = ql.FlatForward(calcDate, interestRate, daysCount, ql.Compounded, ql.Continuous)\n",
    "\n",
    "ql.Settings.instance().evaluationDate = calcDate\n",
    "optionMaturityDate = ql.Date(24,12,2028)\n",
    "strike = 100\n",
    "spot = 125 # futures price\n",
    "volatility = 20/100.\n",
    "optionType = ql.Option.Call\n",
    "\n",
    "discount = yieldCurve.discount(optionMaturityDate)\n",
    "strikepayoff = ql.PlainVanillaPayoff(optionType, strike)\n",
    "T = yieldCurve.dayCounter().yearFraction(calcDate, optionMaturityDate)\n",
    "\n",
    "stddev = volatility*math.sqrt(T)\n",
    "\n",
    "black = ql.BlackCalculator(strikepayoff, spot, stddev, discount)\n",
    "\n",
    "print(\"%-20s: %4.4f\" %(\"Option Price for 5-year note\", black.value() )) \n",
    "print(\"%-20s: %4.4f\" %(\"Delta\", black.delta(spot)))\n",
    "print(\"%-20s: %4.4f\" %(\"Gamma\", black.gamma(spot)))\n",
    "print(\"%-20s: %4.4f\" %(\"Theta\", black.theta(spot, T))) \n",
    "print(\"%-20s: %4.4f\" %(\"Vega\", black.vega(T)))\n",
    "print(\"%-20s: %4.4f\" %(\"Rho\", black.rho( T)))"
   ]
  },
  {
   "cell_type": "markdown",
   "id": "f1930643",
   "metadata": {},
   "source": [
    "## Natural Gas Futures Option"
   ]
  },
  {
   "cell_type": "code",
   "execution_count": 26,
   "id": "02494307",
   "metadata": {},
   "outputs": [
    {
     "name": "stdout",
     "output_type": "stream",
     "text": [
      "Option Price        : 0.0789\n",
      "Delta               : 0.2347\n",
      "Gamma               : 0.4822\n",
      "Theta               : -0.3711\n",
      "Vega                : 0.4600\n",
      "Rho                 : 0.1597\n"
     ]
    }
   ],
   "source": [
    "interestRate = 0.0015\n",
    "calcDate = ql.Date(23,9,2015)\n",
    "yieldCurve = ql.FlatForward(calcDate, interestRate, daysCount, ql.Compounded, ql.Continuous)\n",
    "ql.Settings.instance().evaluationDate = calcDate\n",
    "\n",
    "T = 96.12/365.\n",
    "strike = 3.5\n",
    "spot = 2.919\n",
    "volatility = 0.4251\n",
    "optionType = ql.Option.Call\n",
    "discount = yieldCurve.discount(T)\n",
    "strikepayoff = ql.PlainVanillaPayoff(optionType, strike)\n",
    "stddev = volatility*math.sqrt(T)\n",
    "strikepayoff = ql.PlainVanillaPayoff(optionType, strike)\n",
    "black = ql.BlackCalculator(strikepayoff, spot, stddev, discount)\n",
    "\n",
    "print(\"%-20s: %4.4f\" %(\"Option Price\", black.value()))\n",
    "print(\"%-20s: %4.4f\" %(\"Delta\", black.delta(spot)))\n",
    "print(\"%-20s: %4.4f\" %(\"Gamma\", black.gamma(spot))) \n",
    "print(\"%-20s: %4.4f\" %(\"Theta\", black.theta(spot, T)))\n",
    "print(\"%-20s: %4.4f\" %(\"Vega\", black.vega(T))) \n",
    "print(\"%-20s: %4.4f\" %(\"Rho\", black.rho( T)))"
   ]
  },
  {
   "cell_type": "markdown",
   "id": "374e04dd",
   "metadata": {},
   "source": [
    "## Natural Oil Futures Option"
   ]
  },
  {
   "cell_type": "code",
   "execution_count": 30,
   "id": "03ec096a",
   "metadata": {},
   "outputs": [
    {
     "name": "stdout",
     "output_type": "stream",
     "text": [
      "Option Price        : 0.6596\n",
      "Delta               : -0.7649\n",
      "Gamma               : 0.4822\n",
      "Theta               : -0.3703\n",
      "Vega                : 0.4600\n",
      "Rho                 : -0.7617\n"
     ]
    }
   ],
   "source": [
    "interestRate = 0.0015\n",
    "calcDate = ql.Date(23, 9,2022)\n",
    "yieldCurve = ql.FlatForward(calcDate, interestRate, daysCount, ql.Compounded, ql.Continuous)\n",
    "ql.Settings.instance().evaluationDate = calcDate\n",
    "\n",
    "T = 96.12/365.\n",
    "strike = 3.5\n",
    "spot = 2.919\n",
    "volatility = 0.4251\n",
    "optionType = ql.Option.Put\n",
    "discount = yieldCurve.discount(T)\n",
    "strikepayoff = ql.PlainVanillaPayoff(optionType, strike)\n",
    "stddev = volatility*math.sqrt(T)\n",
    "strikepayoff = ql.PlainVanillaPayoff(optionType, strike)\n",
    "black = ql.BlackCalculator(strikepayoff, spot, stddev, discount)\n",
    "\n",
    "print(\"%-20s: %4.4f\" %(\"Option Price\", black.value()))\n",
    "print(\"%-20s: %4.4f\" %(\"Delta\", black.delta(spot)))\n",
    "print(\"%-20s: %4.4f\" %(\"Gamma\", black.gamma(spot))) \n",
    "print(\"%-20s: %4.4f\" %(\"Theta\", black.theta(spot, T)))\n",
    "print(\"%-20s: %4.4f\" %(\"Vega\", black.vega(T))) \n",
    "print(\"%-20s: %4.4f\" %(\"Rho\", black.rho( T)))"
   ]
  },
  {
   "cell_type": "code",
   "execution_count": null,
   "id": "3fb3578f",
   "metadata": {},
   "outputs": [],
   "source": []
  }
 ],
 "metadata": {
  "kernelspec": {
   "display_name": "Python 3 (ipykernel)",
   "language": "python",
   "name": "python3"
  },
  "language_info": {
   "codemirror_mode": {
    "name": "ipython",
    "version": 3
   },
   "file_extension": ".py",
   "mimetype": "text/x-python",
   "name": "python",
   "nbconvert_exporter": "python",
   "pygments_lexer": "ipython3",
   "version": "3.9.13"
  }
 },
 "nbformat": 4,
 "nbformat_minor": 5
}
