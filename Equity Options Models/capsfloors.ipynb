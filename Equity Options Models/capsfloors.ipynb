{
 "cells": [
  {
   "cell_type": "code",
   "execution_count": 1,
   "id": "6406d6f6",
   "metadata": {},
   "outputs": [
    {
     "name": "stdout",
     "output_type": "stream",
     "text": [
      "Value of Caps given constant volatility: 54361.469655539724\n"
     ]
    }
   ],
   "source": [
    "import QuantLib as ql\n",
    "\n",
    "calcDate = ql.Date(14, 6, 2016)\n",
    "ql.Settings.instance().evaluationDate = calcDate\n",
    "\n",
    "# Singular interest rate term structure for constant volatility.\n",
    "dates = [ql.Date(14,6,2016), ql.Date(14,9,2016),\n",
    "         ql.Date(14,12,2016), ql.Date(14,6,2017),\n",
    "         ql.Date(14,6,2019), ql.Date(14,6,2021),\n",
    "         ql.Date(15,6,2026), ql.Date(16,6,2031),\n",
    "         ql.Date(16,6,2036), ql.Date(14,6,2046)]\n",
    "\n",
    "yields = [0.000000, 0.006616, 0.007049, 0.007795,\n",
    "          0.009599, 0.011203, 0.015068, 0.017583,\n",
    "          0.018998, 0.020080]\n",
    "\n",
    "dayCount = ql.ActualActual(ql.ActualActual.Bond)\n",
    "calendar = ql.UnitedStates()\n",
    "interpolation = ql.Linear()\n",
    "compounding = ql.Compounded\n",
    "compoundingFrequency = ql.Annual\n",
    "termStructure = ql.ZeroCurve(dates, yields, dayCount, calendar, interpolation, compounding, compoundingFrequency)\n",
    "ts_handle = ql.YieldTermStructureHandle(termStructure)\n",
    "\n",
    "# Cap\n",
    "start_date = ql.Date(14, 6, 2016)\n",
    "end_date = ql.Date(14, 6 , 2026)\n",
    "period = ql.Period(3, ql.Months)\n",
    "calendar = ql.UnitedStates()\n",
    "buss_convention = ql.ModifiedFollowing\n",
    "rule = ql.DateGeneration.Forward\n",
    "end_of_month = False\n",
    "schedule = ql.Schedule(start_date, end_date, period, calendar, buss_convention, buss_convention, rule, end_of_month)\n",
    "\n",
    "# Schedule\n",
    "iborIndex = ql.USDLibor(ql.Period(3, ql.Months), ts_handle)\n",
    "iborIndex.addFixing(ql.Date(10,6,2016), 0.0065560)\n",
    "iborLeg = ql.IborLeg([1000000], schedule, iborIndex)\n",
    "\n",
    "# Pricing the cap through the ibor leg and strike using BlackFloorEngine.\n",
    "strike = 0.02\n",
    "cap = ql.Cap(iborLeg, [strike])\n",
    "vols = ql.QuoteHandle(ql.SimpleQuote(0.547295))\n",
    "black_engine = ql.BlackCapFloorEngine(ts_handle, vols)\n",
    "cap.setPricingEngine(black_engine) \n",
    "print(\"Value of Caps given constant volatility:\", cap.NPV())"
   ]
  },
  {
   "cell_type": "code",
   "execution_count": null,
   "id": "5e6f179a",
   "metadata": {},
   "outputs": [],
   "source": []
  }
 ],
 "metadata": {
  "kernelspec": {
   "display_name": "Python 3 (ipykernel)",
   "language": "python",
   "name": "python3"
  },
  "language_info": {
   "codemirror_mode": {
    "name": "ipython",
    "version": 3
   },
   "file_extension": ".py",
   "mimetype": "text/x-python",
   "name": "python",
   "nbconvert_exporter": "python",
   "pygments_lexer": "ipython3",
   "version": "3.10.2"
  }
 },
 "nbformat": 4,
 "nbformat_minor": 5
}
