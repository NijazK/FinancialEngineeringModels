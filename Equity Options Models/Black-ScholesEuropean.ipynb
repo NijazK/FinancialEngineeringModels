{
 "cells": [
  {
   "cell_type": "markdown",
   "id": "967f18bf",
   "metadata": {},
   "source": [
    "# Black-Scholes European Option"
   ]
  },
  {
   "cell_type": "code",
   "execution_count": 27,
   "id": "e00c45aa",
   "metadata": {},
   "outputs": [],
   "source": [
    "import QuantLib as ql\n",
    "import matplotlib.pyplot as plt\n",
    "import numpy as np\n",
    "%matplotlib inline\n",
    "import math"
   ]
  },
  {
   "cell_type": "code",
   "execution_count": 32,
   "id": "901e1291",
   "metadata": {},
   "outputs": [],
   "source": [
    "maturity_date = Date(15, 1, 2022)\n",
    "spot_price = 127.62\n",
    "strike_price = 130\n",
    "volatility = 0.20 # the historical vols for a year\n",
    "dividend_rate =  0.0163\n",
    "option_type = Option.Call\n",
    "risk_free_rate = 0.001\n",
    "day_count = Actual365Fixed()\n",
    "calendar = UnitedStates()\n",
    "calculation_date = Date(8, 5, 2015)\n",
    "Settings.instance().evaluationDate = calculation_date"
   ]
  },
  {
   "cell_type": "code",
   "execution_count": 33,
   "id": "bb875ee8",
   "metadata": {},
   "outputs": [],
   "source": [
    "# construct the European Option\n",
    "payoff = ql.PlainVanillaPayoff(option_type, strike_price)\n",
    "exercise = ql.EuropeanExercise(maturity_date)\n",
    "european_option = ql.VanillaOption(payoff, exercise)"
   ]
  },
  {
   "cell_type": "code",
   "execution_count": 34,
   "id": "dd4edae8",
   "metadata": {},
   "outputs": [],
   "source": [
    "spot_handle = QuoteHandle(SimpleQuote(spot_price))\n",
    "flat_ts = YieldTermStructureHandle(FlatForward(calculation_date, risk_free_rate, day_count))\n",
    "dividend_yield = YieldTermStructureHandle(FlatForward(calculation_date, dividend_rate, day_count))\n",
    "flat_vol_ts = BlackVolTermStructureHandle(BlackConstantVol(calculation_date, calendar, volatility, day_count))\n",
    "bsm_process = BlackScholesMertonProcess(spot_handle, dividend_yield, flat_ts, flat_vol_ts)"
   ]
  },
  {
   "cell_type": "code",
   "execution_count": 35,
   "id": "c4f28038",
   "metadata": {},
   "outputs": [
    {
     "name": "stdout",
     "output_type": "stream",
     "text": [
      "The Black-Scholes process price is  18.170763519162495\n"
     ]
    }
   ],
   "source": [
    "european_option.setPricingEngine(ql.AnalyticEuropeanEngine(bsm_process))\n",
    "bs_price = european_option.NPV()\n",
    "print(\"The Black-Scholes process price is \", bs_price)"
   ]
  },
  {
   "cell_type": "code",
   "execution_count": null,
   "id": "c86765ac",
   "metadata": {},
   "outputs": [],
   "source": []
  }
 ],
 "metadata": {
  "kernelspec": {
   "display_name": "Python 3 (ipykernel)",
   "language": "python",
   "name": "python3"
  },
  "language_info": {
   "codemirror_mode": {
    "name": "ipython",
    "version": 3
   },
   "file_extension": ".py",
   "mimetype": "text/x-python",
   "name": "python",
   "nbconvert_exporter": "python",
   "pygments_lexer": "ipython3",
   "version": "3.9.7"
  }
 },
 "nbformat": 4,
 "nbformat_minor": 5
}
