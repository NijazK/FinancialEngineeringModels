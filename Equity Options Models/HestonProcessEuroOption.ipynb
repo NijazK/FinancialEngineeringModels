{
 "cells": [
  {
   "cell_type": "markdown",
   "id": "8c98ad4d",
   "metadata": {},
   "source": [
    "# Valuing European Option Using Heston Model.\n",
    "##### Heston model can be used to value options by modeling the underlying asset such as the stock of a company. The one major feature of the Heston model is that it inocrporates a stochastic volatility term."
    
   ]
  },
  {
   "cell_type": "code",
   "execution_count": 6,
   "id": "3e2f21f9",
   "metadata": {},
   "outputs": [],
   "source": [
    "from QuantLib import *\n",
    "import matplotlib.pyplot as plt\n",
    "import numpy as np\n",
    "#from scipy.integrate import simps, cumtrapz, romb % matplotlib inline\n",
    "import math"
   ]
  },
  {
   "cell_type": "markdown",
   "id": "90b5de9c",
   "metadata": {},
   "source": [
    "##### Let us consider a European call option for AAPL with a strike price of 130 maturing on 15th Jan, 2016. Let the spot price be 127.62. The volatility of the underlying stock is know to be 20%, and has a dividend yield of 1.63%. We assume a short term risk free rate of 0.1%. Lets value this option as of 1st January, 2022."
   ]
  },
  {
   "cell_type": "code",
   "execution_count": 7,
   "id": "51a6499e",
   "metadata": {},
   "outputs": [],
   "source": [
    "# option parameters\n",
    "strike_price = 110.0\n",
    "payoff = PlainVanillaPayoff(Option.Call, strike_price)\n",
    "\n",
    "# option data\n",
    "maturity_date = Date(15, 1, 2016)\n",
    "spot_price = 127.62\n",
    "strike_price = 130\n",
    "volatility = 0.20 # the historical vols for a year\n",
    "dividend_rate =  0.0163\n",
    "option_type = Option.Call\n",
    "risk_free_rate = 0.001\n",
    "day_count = Actual365Fixed()\n",
    "calendar = UnitedStates()\n",
    "calculation_date = Date(8, 5, 2015)\n",
    "Settings.instance().evaluationDate = calculation_date"
   ]
  },
  {
   "cell_type": "markdown",
   "id": "c55d3106",
   "metadata": {},
   "source": [
    "##### Using the above inputs, we construct the European option as shown below."
   ]
  },
  {
   "cell_type": "code",
   "execution_count": 8,
   "id": "c56aac6a",
   "metadata": {},
   "outputs": [],
   "source": [
    "# construct the European Option\n",
    "payoff = PlainVanillaPayoff(option_type, strike_price)\n",
    "exercise = EuropeanExercise(maturity_date)\n",
    "european_option = VanillaOption(payoff, exercise)"
   ]
  },
  {
   "cell_type": "code",
   "execution_count": 9,
   "id": "f93eda4a",
   "metadata": {},
   "outputs": [],
   "source": [
    "# Creating the Heston process\n",
    "v0 = volatility*volatility  # spot variance\n",
    "kappa = 0.1\n",
    "theta = v0\n",
    "sigma = 0.1\n",
    "rho = -0.75\n",
    "\n",
    "spot_handle = QuoteHandle(SimpleQuote(spot_price))\n",
    "flat_ts = YieldTermStructureHandle(FlatForward(calculation_date, risk_free_rate, day_count))\n",
    "dividend_yield = YieldTermStructureHandle(FlatForward(calculation_date, dividend_rate, day_count))\n",
    "heston_process = HestonProcess(flat_ts, dividend_yield, spot_handle, v0, kappa, theta, sigma, rho)"
   ]
  },
  {
   "cell_type": "code",
   "execution_count": 10,
   "id": "20f432fb",
   "metadata": {},
   "outputs": [
    {
     "name": "stdout",
     "output_type": "stream",
     "text": [
      "The Heston model price is 6.533855481449102\n"
     ]
    }
   ],
   "source": [
    "# Net present value\n",
    "engine = AnalyticHestonEngine(HestonModel(heston_process),0.01, 1000) \n",
    "european_option.setPricingEngine(engine)\n",
    "h_price = european_option.NPV()\n",
    "print(\"The Heston model price is\", h_price)"
   ]
  },
  {
   "cell_type": "code",
   "execution_count": null,
   "id": "9e2499b1",
   "metadata": {},
   "outputs": [],
   "source": []
  }
 ],
 "metadata": {
  "kernelspec": {
   "display_name": "Python 3 (ipykernel)",
   "language": "python",
   "name": "python3"
  },
  "language_info": {
   "codemirror_mode": {
    "name": "ipython",
    "version": 3
   },
   "file_extension": ".py",
   "mimetype": "text/x-python",
   "name": "python",
   "nbconvert_exporter": "python",
   "pygments_lexer": "ipython3",
   "version": "3.9.7"
  }
 },
 "nbformat": 4,
 "nbformat_minor": 5
}
