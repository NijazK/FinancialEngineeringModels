{
 "cells": [
  {
   "cell_type": "markdown",
   "id": "0622c812",
   "metadata": {},
   "source": [
    "### Import"
   ]
  },
  {
   "cell_type": "code",
   "execution_count": null,
   "id": "a48dd4c0",
   "metadata": {},
   "outputs": [],
   "source": [
    "from QuantLib import *"
   ]
  },
  {
   "cell_type": "code",
   "execution_count": 3,
   "id": "9b591229",
   "metadata": {},
   "outputs": [],
   "source": [
    "today = Date(7, March, 2014)\n",
    "Settings.instance().evaluationDate = today"
   ]
  },
  {
   "cell_type": "markdown",
   "id": "3a7bb25d",
   "metadata": {},
   "source": [
    "### Option"
   ]
  },
  {
   "cell_type": "code",
   "execution_count": 4,
   "id": "e62a1d7a",
   "metadata": {},
   "outputs": [],
   "source": [
    "option = EuropeanOption(PlainVanillaPayoff(Option.Call, 100.0),\n",
    "                       EuropeanExercise(Date(7, June, 2014)))"
   ]
  },
  {
   "cell_type": "markdown",
   "id": "16047518",
   "metadata": {},
   "source": [
    "### Black-Scholes formula"
   ]
  },
  {
   "cell_type": "code",
   "execution_count": 5,
   "id": "3e757052",
   "metadata": {},
   "outputs": [],
   "source": [
    "u = SimpleQuote(100.0)\n",
    "r = SimpleQuote(0.01)\n",
    "sigma = SimpleQuote(0.20)"
   ]
  },
  {
   "cell_type": "code",
   "execution_count": 7,
   "id": "0970463e",
   "metadata": {},
   "outputs": [],
   "source": [
    "riskFreeCurve = FlatForward(0, TARGET(), QuoteHandle(r), Actual360())\n",
    "volatility = BlackConstantVol(0, TARGET(), QuoteHandle(sigma), Actual360())"
   ]
  },
  {
   "cell_type": "code",
   "execution_count": 9,
   "id": "afa92d81",
   "metadata": {},
   "outputs": [],
   "source": [
    "process = BlackScholesProcess(QuoteHandle(u),\n",
    "                             YieldTermStructureHandle(riskFreeCurve),\n",
    "                             BlackVolTermStructureHandle(volatility))"
   ]
  },
  {
   "cell_type": "code",
   "execution_count": 10,
   "id": "e8c2e968",
   "metadata": {},
   "outputs": [],
   "source": [
    "engine = AnalyticEuropeanEngine(process)"
   ]
  },
  {
   "cell_type": "code",
   "execution_count": 11,
   "id": "969544c4",
   "metadata": {},
   "outputs": [],
   "source": [
    "option.setPricingEngine(engine)"
   ]
  },
  {
   "cell_type": "code",
   "execution_count": 13,
   "id": "a2959eab",
   "metadata": {},
   "outputs": [
    {
     "data": {
      "text/plain": [
       "4.155543462156206"
      ]
     },
     "execution_count": 13,
     "metadata": {},
     "output_type": "execute_result"
    }
   ],
   "source": [
    "option.NPV()"
   ]
  },
  {
   "cell_type": "code",
   "execution_count": 16,
   "id": "542042e7",
   "metadata": {},
   "outputs": [
    {
     "data": {
      "text/plain": [
       "20.109632428723106"
      ]
     },
     "execution_count": 16,
     "metadata": {},
     "output_type": "execute_result"
    }
   ],
   "source": [
    "option.delta()\n",
    "option.gamma()\n",
    "option.vega()"
   ]
  },
  {
   "cell_type": "markdown",
   "id": "c9117b5b",
   "metadata": {},
   "source": [
    "### Market Changes"
   ]
  },
  {
   "cell_type": "code",
   "execution_count": 17,
   "id": "6ab926f6",
   "metadata": {},
   "outputs": [
    {
     "data": {
      "text/plain": [
       "4.155543462156206"
      ]
     },
     "execution_count": 17,
     "metadata": {},
     "output_type": "execute_result"
    }
   ],
   "source": [
    "option.NPV()"
   ]
  },
  {
   "cell_type": "code",
   "execution_count": 18,
   "id": "1d159b01",
   "metadata": {},
   "outputs": [
    {
     "data": {
      "text/plain": [
       "7.27556357927846"
      ]
     },
     "execution_count": 18,
     "metadata": {},
     "output_type": "execute_result"
    }
   ],
   "source": [
    "u.setValue(105.0)\n",
    "option.NPV()"
   ]
  },
  {
   "cell_type": "code",
   "execution_count": 29,
   "id": "3603ffcc",
   "metadata": {},
   "outputs": [],
   "source": [
    "%%capture\n",
    "%pylab inline --no-import-all\n",
    "import matplotlib.pyplot as plot\n",
    "import numpy as np\n",
    "from IPython.display import display"
   ]
  },
  {
   "cell_type": "code",
   "execution_count": 30,
   "id": "1483b20c",
   "metadata": {},
   "outputs": [
    {
     "data": {
      "image/png": "[encoded data removed]",
      "text/plain": [
       "<Figure size 432x288 with 1 Axes>"
      ]
     },
     "metadata": {
      "needs_background": "light"
     },
     "output_type": "display_data"
    }
   ],
   "source": [
    "f, ax = plot.subplots()\n",
    "xs = np.linspace(80.0, 120.0, 400)\n",
    "ys = []\n",
    "for x in xs:\n",
    "    u.setValue(x)\n",
    "    ys.append(option.NPV())\n",
    "ax.set_title('Option Value')\n",
    "_ = ax.plot(xs, ys)"
   ]
  },
  {
   "cell_type": "markdown",
   "id": "30a75bf8",
   "metadata": {},
   "source": [
    "### Date Changes"
   ]
  },
  {
   "cell_type": "code",
   "execution_count": 31,
   "id": "2c7f9dc4",
   "metadata": {},
   "outputs": [
    {
     "data": {
      "text/plain": [
       "7.27556357927846"
      ]
     },
     "execution_count": 31,
     "metadata": {},
     "output_type": "execute_result"
    }
   ],
   "source": [
    "u.setValue(105.0)\n",
    "option.NPV()"
   ]
  },
  {
   "cell_type": "code",
   "execution_count": 32,
   "id": "b7fcc2cf",
   "metadata": {},
   "outputs": [],
   "source": [
    "Settings.instance().evaluationDate = Date(7, April, 2014)"
   ]
  },
  {
   "cell_type": "code",
   "execution_count": 33,
   "id": "ad0ca5ce",
   "metadata": {},
   "outputs": [
    {
     "data": {
      "text/plain": [
       "6.560073820974377"
      ]
     },
     "execution_count": 33,
     "metadata": {},
     "output_type": "execute_result"
    }
   ],
   "source": [
    "option.NPV()"
   ]
  },
  {
   "cell_type": "code",
   "execution_count": 34,
   "id": "f711d21a",
   "metadata": {},
   "outputs": [
    {
     "data": {
      "image/png": "[encoded data removed]",
      "text/plain": [
       "<Figure size 432x288 with 1 Axes>"
      ]
     },
     "metadata": {},
     "output_type": "display_data"
    }
   ],
   "source": [
    "ys = []\n",
    "for x in xs:\n",
    "    u.setValue(x)\n",
    "    ys.append(option.NPV())\n",
    "ax.plot(xs, ys)\n",
    "display(f)"
   ]
  },
  {
   "cell_type": "code",
   "execution_count": 35,
   "id": "9a357862",
   "metadata": {},
   "outputs": [],
   "source": [
    "Settings.instance().evaluationDate = Date(7, May, 2014)"
   ]
  },
  {
   "cell_type": "code",
   "execution_count": 36,
   "id": "91040e62",
   "metadata": {},
   "outputs": [],
   "source": [
    "Settings.instance().evaluationDate = Date(17, May, 2014)"
   ]
  },
  {
   "cell_type": "code",
   "execution_count": 37,
   "id": "71fbd432",
   "metadata": {},
   "outputs": [],
   "source": [
    "Settings.instance().evaluationDate = Date(27, May, 2014)"
   ]
  },
  {
   "cell_type": "code",
   "execution_count": 38,
   "id": "fc49f55c",
   "metadata": {},
   "outputs": [],
   "source": [
    "Settings.instance().evaluationDate = Date(6, June, 2014)"
   ]
  },
  {
   "cell_type": "code",
   "execution_count": 39,
   "id": "1278a630",
   "metadata": {},
   "outputs": [],
   "source": [
    "Settings.instance().evaluationDate = Date(7, June, 2014)"
   ]
  },
  {
   "cell_type": "code",
   "execution_count": 40,
   "id": "ae0e1b71",
   "metadata": {},
   "outputs": [
    {
     "data": {
      "text/plain": [
       "0.0"
      ]
     },
     "execution_count": 40,
     "metadata": {},
     "output_type": "execute_result"
    }
   ],
   "source": [
    "option.NPV()"
   ]
  },
  {
   "cell_type": "markdown",
   "id": "8ea5bfdf",
   "metadata": {},
   "source": [
    "### Heston Model"
   ]
  },
  {
   "cell_type": "code",
   "execution_count": 41,
   "id": "723d6139",
   "metadata": {},
   "outputs": [],
   "source": [
    "Settings.instance().evaluationDate = today\n",
    "u.setValue(105.0)\n",
    "r.setValue(0.01)\n",
    "sigma.setValue(0.20)"
   ]
  },
  {
   "cell_type": "code",
   "execution_count": 42,
   "id": "1964a8b8",
   "metadata": {},
   "outputs": [
    {
     "data": {
      "text/plain": [
       "7.27556357927846"
      ]
     },
     "execution_count": 42,
     "metadata": {},
     "output_type": "execute_result"
    }
   ],
   "source": [
    "option.NPV()"
   ]
  },
  {
   "cell_type": "code",
   "execution_count": 43,
   "id": "d9d05788",
   "metadata": {},
   "outputs": [],
   "source": [
    "r.setValue(0.03)"
   ]
  },
  {
   "cell_type": "code",
   "execution_count": 44,
   "id": "15f01b56",
   "metadata": {},
   "outputs": [
    {
     "data": {
      "text/plain": [
       "7.624029148527754"
      ]
     },
     "execution_count": 44,
     "metadata": {},
     "output_type": "execute_result"
    }
   ],
   "source": [
    "option.NPV()"
   ]
  },
  {
   "cell_type": "code",
   "execution_count": 45,
   "id": "fcfdb799",
   "metadata": {},
   "outputs": [],
   "source": [
    "sigma.setValue(0.25)"
   ]
  },
  {
   "cell_type": "code",
   "execution_count": 46,
   "id": "73002007",
   "metadata": {},
   "outputs": [
    {
     "data": {
      "text/plain": [
       "8.531296969971573"
      ]
     },
     "execution_count": 46,
     "metadata": {},
     "output_type": "execute_result"
    }
   ],
   "source": [
    "option.NPV()"
   ]
  },
  {
   "cell_type": "markdown",
   "id": "94f45320",
   "metadata": {},
   "source": [
    "### Other Pricing Methods"
   ]
  },
  {
   "cell_type": "code",
   "execution_count": 47,
   "id": "3a57e759",
   "metadata": {},
   "outputs": [],
   "source": [
    "Settings.instance().evaluationDate = today\n",
    "u.setValue(105.0)\n",
    "r.setValue(0.01)\n",
    "sigma.setValue(0.20)"
   ]
  },
  {
   "cell_type": "code",
   "execution_count": 48,
   "id": "71cfdcd2",
   "metadata": {},
   "outputs": [
    {
     "data": {
      "text/plain": [
       "7.27556357927846"
      ]
     },
     "execution_count": 48,
     "metadata": {},
     "output_type": "execute_result"
    }
   ],
   "source": [
    "option.NPV()"
   ]
  },
  {
   "cell_type": "code",
   "execution_count": 49,
   "id": "82024d22",
   "metadata": {},
   "outputs": [],
   "source": [
    "model = HestonModel(\n",
    "    HestonProcess(YieldTermStructureHandle(riskFreeCurve),\n",
    "                  YieldTermStructureHandle(FlatForward(0, TARGET(), 0.0, Actual360())),\n",
    "                  QuoteHandle(u),\n",
    "                  0.04, 0.1, 0.01, 0.05, -0.75))"
   ]
  },
  {
   "cell_type": "code",
   "execution_count": 50,
   "id": "3838ad88",
   "metadata": {},
   "outputs": [],
   "source": [
    "engine = AnalyticHestonEngine(model)\n",
    "option.setPricingEngine(engine)"
   ]
  },
  {
   "cell_type": "code",
   "execution_count": 51,
   "id": "4222c8c0",
   "metadata": {},
   "outputs": [
    {
     "data": {
      "text/plain": [
       "7.295356086978629"
      ]
     },
     "execution_count": 51,
     "metadata": {},
     "output_type": "execute_result"
    }
   ],
   "source": [
    "option.NPV()"
   ]
  },
  {
   "cell_type": "markdown",
   "id": "5ebb7f55",
   "metadata": {},
   "source": [
    "### Lazy Recalculation"
   ]
  },
  {
   "cell_type": "code",
   "execution_count": 53,
   "id": "8f7e61ba",
   "metadata": {},
   "outputs": [],
   "source": [
    "engine = MCEuropeanEngine(process, \"PseudoRandom\",\n",
    "                          timeSteps=20,\n",
    "                          requiredSamples=250000)\n",
    "option.setPricingEngine(engine)"
   ]
  },
  {
   "cell_type": "code",
   "execution_count": 54,
   "id": "c0563878",
   "metadata": {},
   "outputs": [
    {
     "data": {
      "text/plain": [
       "7.273913002697302"
      ]
     },
     "execution_count": 54,
     "metadata": {},
     "output_type": "execute_result"
    }
   ],
   "source": [
    "option.NPV()"
   ]
  },
  {
   "cell_type": "code",
   "execution_count": 56,
   "id": "9d19d712",
   "metadata": {},
   "outputs": [],
   "source": [
    "u.setValue(104.0)"
   ]
  },
  {
   "cell_type": "code",
   "execution_count": 57,
   "id": "1dae0639",
   "metadata": {},
   "outputs": [
    {
     "data": {
      "text/plain": [
       "6.582501116966657"
      ]
     },
     "execution_count": 57,
     "metadata": {},
     "output_type": "execute_result"
    }
   ],
   "source": [
    "option.NPV()"
   ]
  }
 ],
 "metadata": {
  "kernelspec": {
   "display_name": "Python 3 (ipykernel)",
   "language": "python",
   "name": "python3"
  },
  "language_info": {
   "codemirror_mode": {
    "name": "ipython",
    "version": 3
   },
   "file_extension": ".py",
   "mimetype": "text/x-python",
   "name": "python",
   "nbconvert_exporter": "python",
   "pygments_lexer": "ipython3",
   "version": "3.9.7"
  }
 },
 "nbformat": 4,
 "nbformat_minor": 5
}
