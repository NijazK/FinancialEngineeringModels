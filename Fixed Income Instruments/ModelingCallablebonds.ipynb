{
 "cells": [
  {
   "cell_type": "code",
   "execution_count": 40,
   "id": "03e0e8cc",
   "metadata": {},
   "outputs": [],
   "source": [
    "import QuantLib as ql\n",
    "import numpy as np\n",
    "import matplotlib.pyplot as plt\n",
    "%matplotlib inline\n",
    "calc_date = Date(16,8,2016) \n",
    "Settings.instance().evaluationDate = calc_date"
   ]
  },
  {
   "cell_type": "code",
   "execution_count": 41,
   "id": "731037b3",
   "metadata": {},
   "outputs": [],
   "source": [
    "day_count = ActualActual(ActualActual.Bond)\n",
    "rate = 0.035\n",
    "ts = FlatForward(calc_date, rate, day_count, Compounded, Semiannual)\n",
    "ts_handle = YieldTermStructureHandle(ts)"
   ]
  },
  {
   "cell_type": "code",
   "execution_count": 43,
   "id": "3946a14b",
   "metadata": {},
   "outputs": [],
   "source": [
    "callability_schedule = CallabilitySchedule()\n",
    "call_price = 100.0\n",
    "call_date = Date(15,September,2016); \n",
    "null_calendar = NullCalendar();\n",
    "for i in range(0,24):\n",
    "    callability_price  = ql.BondPrice(call_price, ql.BondPrice.Clean)\n",
    "    callability_schedule.append(ql.Callability(callability_price, Callability.Call, call_date))\n",
    "    call_date = null_calendar.advance(call_date, 3, Months)\n"
   ]
  },
  {
   "cell_type": "code",
   "execution_count": 44,
   "id": "04c1986c",
   "metadata": {},
   "outputs": [],
   "source": [
    "issue_date = Date(16,September,2014)\n",
    "maturity_date = Date(15,September,2022)\n",
    "calendar = UnitedStates(UnitedStates.GovernmentBond)\n",
    "tenor = Period(Quarterly)\n",
    "accrual_convention = Unadjusted\n",
    "schedule = Schedule(issue_date, maturity_date, tenor, calendar, accrual_convention, accrual_convention, DateGeneration.Backward, False)"
   ]
  },
  {
   "cell_type": "code",
   "execution_count": 45,
   "id": "1ff4b1ce",
   "metadata": {},
   "outputs": [],
   "source": [
    "settlement_days = 3\n",
    "face_amount = 100\n",
    "accrual_daycount = ActualActual(ActualActual.Bond)\n",
    "coupon = 0.025\n",
    "bond = CallableFixedRateBond(settlement_days, face_amount, schedule, [coupon], accrual_daycount, Following, face_amount, issue_date, callability_schedule)"
   ]
  },
  {
   "cell_type": "code",
   "execution_count": 46,
   "id": "167528a5",
   "metadata": {},
   "outputs": [],
   "source": [
    "def value_bond(a, s, grid_points, bond): \n",
    "    model = HullWhite(ts_handle, a, s)\n",
    "    engine = TreeCallableFixedRateBondEngine(model, grid_points) \n",
    "    bond.setPricingEngine(engine)\n",
    "    return bond"
   ]
  },
  {
   "cell_type": "code",
   "execution_count": 47,
   "id": "2d5a3a71",
   "metadata": {},
   "outputs": [
    {
     "name": "stdout",
     "output_type": "stream",
     "text": [
      "Bond price: \n"
     ]
    },
    {
     "data": {
      "text/plain": [
       "68.31810243227721"
      ]
     },
     "execution_count": 47,
     "metadata": {},
     "output_type": "execute_result"
    }
   ],
   "source": [
    "value_bond(0.03, 0.12, 40, bond) \n",
    "print(\"Bond price: \")\n",
    "bond.cleanPrice()"
   ]
  },
  {
   "cell_type": "code",
   "execution_count": 48,
   "id": "d25e7678",
   "metadata": {},
   "outputs": [],
   "source": [
    "sigmas = np.arange(0.001, 0.15, 0.001)\n",
    "prices = [value_bond(0.03, s, 40, bond).cleanPrice() for s in sigmas]"
   ]
  },
  {
   "cell_type": "code",
   "execution_count": 49,
   "id": "36cc4a32",
   "metadata": {},
   "outputs": [
    {
     "data": {
      "text/plain": [
       "Text(0, 0.5, 'Price')"
      ]
     },
     "execution_count": 49,
     "metadata": {},
     "output_type": "execute_result"
    },
    {
     "data": {
      "image/png": "[encoded data removed]",
      "text/plain": [
       "<Figure size 432x288 with 1 Axes>"
      ]
     },
     "metadata": {
      "needs_background": "light"
     },
     "output_type": "display_data"
    }
   ],
   "source": [
    "plt.plot(sigmas, prices)\n",
    "plt.xlabel(\"Sigma\", size=12)\n",
    "plt.ylabel(\"Price\", size=12)"
   ]
  },
  {
   "cell_type": "code",
   "execution_count": 51,
   "id": "ca6b7220",
   "metadata": {},
   "outputs": [
    {
     "name": "stdout",
     "output_type": "stream",
     "text": [
      "December 15th, 2014     0.6181318681318659\n",
      "March 16th, 2015     0.6250000000000089\n",
      "June 15th, 2015     0.6250000000000089\n",
      "September 15th, 2015     0.6250000000000089\n",
      "December 15th, 2015     0.6250000000000089\n",
      "March 15th, 2016     0.6250000000000089\n",
      "June 15th, 2016     0.6250000000000089\n",
      "September 15th, 2016     0.6250000000000089\n",
      "December 15th, 2016     0.6250000000000089\n",
      "March 15th, 2017     0.6250000000000089\n",
      "June 15th, 2017     0.6250000000000089\n",
      "September 15th, 2017     0.6250000000000089\n",
      "December 15th, 2017     0.6250000000000089\n",
      "March 15th, 2018     0.6250000000000089\n",
      "June 15th, 2018     0.6250000000000089\n",
      "September 17th, 2018     0.6250000000000089\n",
      "December 17th, 2018     0.6250000000000089\n",
      "March 15th, 2019     0.6250000000000089\n",
      "June 17th, 2019     0.6250000000000089\n",
      "September 16th, 2019     0.6250000000000089\n",
      "December 16th, 2019     0.6250000000000089\n",
      "March 16th, 2020     0.6250000000000089\n",
      "June 15th, 2020     0.6250000000000089\n",
      "September 15th, 2020     0.6250000000000089\n",
      "December 15th, 2020     0.6250000000000089\n",
      "March 15th, 2021     0.6250000000000089\n",
      "June 15th, 2021     0.6250000000000089\n",
      "September 15th, 2021     0.6250000000000089\n",
      "December 15th, 2021     0.6250000000000089\n",
      "March 15th, 2022     0.6250000000000089\n",
      "June 15th, 2022     0.6250000000000089\n",
      "September 15th, 2022     0.6250000000000089\n",
      "September 15th, 2022     100.0\n"
     ]
    }
   ],
   "source": [
    "for c in bond.cashflows():\n",
    "    print(c.date(), \"   \", c.amount())"
   ]
  },
  {
   "cell_type": "code",
   "execution_count": null,
   "id": "3dc52cf3",
   "metadata": {},
   "outputs": [],
   "source": []
  }
 ],
 "metadata": {
  "kernelspec": {
   "display_name": "Python 3 (ipykernel)",
   "language": "python",
   "name": "python3"
  },
  "language_info": {
   "codemirror_mode": {
    "name": "ipython",
    "version": 3
   },
   "file_extension": ".py",
   "mimetype": "text/x-python",
   "name": "python",
   "nbconvert_exporter": "python",
   "pygments_lexer": "ipython3",
   "version": "3.9.7"
  }
 },
 "nbformat": 4,
 "nbformat_minor": 5
}
