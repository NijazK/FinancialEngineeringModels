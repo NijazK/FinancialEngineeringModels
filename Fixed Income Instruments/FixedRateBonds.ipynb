{
 "cells": [
  {
   "cell_type": "code",
   "execution_count": 5,
   "id": "fa4f9c63",
   "metadata": {},
   "outputs": [
    {
     "data": {
      "text/plain": [
       "105.27653992490681"
      ]
     },
     "execution_count": 5,
     "metadata": {},
     "output_type": "execute_result"
    }
   ],
   "source": [
    "3/pow(1+0.005, 0.5) + (100 + 3)/(1+0.007)"
   ]
  },
  {
   "cell_type": "code",
   "execution_count": 10,
   "id": "b6341a8d",
   "metadata": {},
   "outputs": [],
   "source": [
    "import QuantLib as ql"
   ]
  },
  {
   "cell_type": "code",
   "execution_count": 11,
   "id": "cb9c40a3",
   "metadata": {},
   "outputs": [],
   "source": [
    "calc_date = Date(15, 1, 2015)\n",
    "Settings.instance().evaluationDate = calc_date\n",
    "spot_dates = [Date(15, 1, 2015), Date(15, 7, 2015), Date(15, 1, 2016)]\n",
    "spot_rates = [0.0, 0.005, 0.007]\n",
    "day_count = ql.Thirty360(ql.Thirty360.BondBasis)\n",
    "calendar = UnitedStates()\n",
    "interpolation = Linear()\n",
    "compounding = Compounded\n",
    "compounding_frequency = Annual\n",
    "spot_curve = ZeroCurve(spot_dates, spot_rates, day_count, calendar, interpolation, compounding, compounding_frequency)\n",
    "spot_curve_handle = YieldTermStructureHandle(spot_curve)"
   ]
  },
  {
   "cell_type": "code",
   "execution_count": 12,
   "id": "619afde9",
   "metadata": {},
   "outputs": [],
   "source": [
    "issue_date = Date(15, 1, 2015)\n",
    "maturity_date = Date(15, 1, 2016)\n",
    "tenor = Period(Semiannual)\n",
    "calendar = UnitedStates()\n",
    "business_convention = Unadjusted\n",
    "date_generation = DateGeneration.Backward\n",
    "month_end = False\n",
    "schedule = Schedule (issue_date, maturity_date, tenor, calendar, business_convention, business_convention , date_generation, month_end)"
   ]
  },
  {
   "cell_type": "code",
   "execution_count": 13,
   "id": "0407954c",
   "metadata": {},
   "outputs": [
    {
     "data": {
      "text/plain": [
       "[Date(15,1,2015), Date(15,7,2015), Date(15,1,2016)]"
      ]
     },
     "execution_count": 13,
     "metadata": {},
     "output_type": "execute_result"
    }
   ],
   "source": [
    "list(schedule)"
   ]
  },
  {
   "cell_type": "code",
   "execution_count": 14,
   "id": "fad48038",
   "metadata": {},
   "outputs": [],
   "source": [
    "coupon_rate = .06\n",
    "coupons = [coupon_rate]\n",
    "settlement_days = 0\n",
    "face_value = 100\n",
    "fixed_rate_bond = FixedRateBond(settlement_days, face_value, schedule, coupons, day_count)"
   ]
  },
  {
   "cell_type": "code",
   "execution_count": 15,
   "id": "571008ba",
   "metadata": {},
   "outputs": [],
   "source": [
    "bond_engine = DiscountingBondEngine(spot_curve_handle)\n",
    "fixed_rate_bond.setPricingEngine(bond_engine)"
   ]
  },
  {
   "cell_type": "code",
   "execution_count": 17,
   "id": "7d4b38ae",
   "metadata": {},
   "outputs": [
    {
     "data": {
      "text/plain": [
       "105.27653992490683"
      ]
     },
     "execution_count": 17,
     "metadata": {},
     "output_type": "execute_result"
    }
   ],
   "source": [
    "fixed_rate_bond.NPV()"
   ]
  },
  {
   "cell_type": "code",
   "execution_count": 18,
   "id": "c043f60b",
   "metadata": {},
   "outputs": [
    {
     "data": {
      "text/plain": [
       "105.27653992490683"
      ]
     },
     "execution_count": 18,
     "metadata": {},
     "output_type": "execute_result"
    }
   ],
   "source": [
    "fixed_rate_bond.cleanPrice()"
   ]
  },
  {
   "cell_type": "code",
   "execution_count": 19,
   "id": "decf53a5",
   "metadata": {},
   "outputs": [
    {
     "data": {
      "text/plain": [
       "0.0"
      ]
     },
     "execution_count": 19,
     "metadata": {},
     "output_type": "execute_result"
    }
   ],
   "source": [
    "fixed_rate_bond.accruedAmount()"
   ]
  },
  {
   "cell_type": "code",
   "execution_count": 20,
   "id": "edaf959d",
   "metadata": {},
   "outputs": [
    {
     "data": {
      "text/plain": [
       "105.27653992490683"
      ]
     },
     "execution_count": 20,
     "metadata": {},
     "output_type": "execute_result"
    }
   ],
   "source": [
    "fixed_rate_bond.dirtyPrice()"
   ]
  },
  {
   "cell_type": "code",
   "execution_count": 22,
   "id": "1c2783b9",
   "metadata": {},
   "outputs": [
    {
     "data": {
      "text/plain": [
       "0.006971154634952549"
      ]
     },
     "execution_count": 22,
     "metadata": {},
     "output_type": "execute_result"
    }
   ],
   "source": [
    "fixed_rate_bond.bondYield(day_count, compounding, compounding_frequency)"
   ]
  },
  {
   "cell_type": "code",
   "execution_count": null,
   "id": "689016ab",
   "metadata": {},
   "outputs": [],
   "source": []
  }
 ],
 "metadata": {
  "kernelspec": {
   "display_name": "Python 3 (ipykernel)",
   "language": "python",
   "name": "python3"
  },
  "language_info": {
   "codemirror_mode": {
    "name": "ipython",
    "version": 3
   },
   "file_extension": ".py",
   "mimetype": "text/x-python",
   "name": "python",
   "nbconvert_exporter": "python",
   "pygments_lexer": "ipython3",
   "version": "3.9.7"
  }
 },
 "nbformat": 4,
 "nbformat_minor": 5
}
