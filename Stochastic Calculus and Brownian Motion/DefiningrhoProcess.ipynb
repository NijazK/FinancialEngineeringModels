{
 "cells": [
  {
   "cell_type": "markdown",
   "id": "841f72eb",
   "metadata": {},
   "source": [
    "# Defining Process for rho"
   ]
  },
  {
   "cell_type": "markdown",
   "id": "9797442e",
   "metadata": {},
   "source": [
    "### Imports\n",
    "#### Import all necessary libraries and dependencies."
   ]
  },
  {
   "cell_type": "code",
   "execution_count": 154,
   "id": "a873a7be",
   "metadata": {},
   "outputs": [],
   "source": [
    "from QuantLib import *"
   ]
  },
  {
   "cell_type": "code",
   "execution_count": 155,
   "id": "1fa1cbe6",
   "metadata": {},
   "outputs": [],
   "source": [
    "today = Date(24,12,2016)\n",
    "Settings.instance().evaluationDate = today"
   ]
  },
  {
   "cell_type": "code",
   "execution_count": 156,
   "id": "fc33f324",
   "metadata": {},
   "outputs": [],
   "source": [
    "u = SimpleQuote(100.0)\n",
    "r = SimpleQuote(0.01)\n",
    "sigma = SimpleQuote(0.20)"
   ]
  },
  {
   "cell_type": "code",
   "execution_count": 157,
   "id": "a9a65634",
   "metadata": {},
   "outputs": [],
   "source": [
    "risk_free_curve = FlatForward(today, QuoteHandle(r), Actual360())\n",
    "volatility = BlackConstantVol(today, TARGET(), QuoteHandle(sigma), Actual360())"
   ]
  },
  {
   "cell_type": "markdown",
   "id": "a559a5b2",
   "metadata": {},
   "source": [
    "### Parameters Option modeling\n",
    "#### Construct a process that will use BlackScholesProcess and will set dividend yield to 0"
   ]
  },
  {
   "cell_type": "code",
   "execution_count": 158,
   "id": "b161f107",
   "metadata": {},
   "outputs": [],
   "source": [
    "process_1 = BlackScholesProcess(QuoteHandle(u), YieldTermStructureHandle(risk_free_curve), BlackVolTermStructureHandle(volatility))"
   ]
  },
  {
   "cell_type": "code",
   "execution_count": 159,
   "id": "db38aecc",
   "metadata": {},
   "outputs": [
    {
     "name": "stdout",
     "output_type": "stream",
     "text": [
      "0.0\n"
     ]
    }
   ],
   "source": [
    "print(process_1.dividendYield().zeroRate(1.0, Continuous).rate())\n"
   ]
  },
  {
   "cell_type": "code",
   "execution_count": 160,
   "id": "db520f3a",
   "metadata": {},
   "outputs": [
    {
     "name": "stdout",
     "output_type": "stream",
     "text": [
      "0.009999999999999893\n",
      "0.009999999999999893\n"
     ]
    }
   ],
   "source": [
    "process_2 = BlackProcess(QuoteHandle(u),YieldTermStructureHandle(risk_free_curve), BlackVolTermStructureHandle(volatility)) \n",
    "print(process_2.riskFreeRate().zeroRate(1.0, Continuous).rate())\n",
    "print(process_2.dividendYield().zeroRate(1.0, Continuous).rate())"
   ]
  },
  {
   "cell_type": "code",
   "execution_count": 161,
   "id": "f0d97b02",
   "metadata": {},
   "outputs": [
    {
     "name": "stdout",
     "output_type": "stream",
     "text": [
      "0.009999999999999893\n",
      "0.009999999999999893\n"
     ]
    }
   ],
   "source": [
    "process_3 = BlackProcess(QuoteHandle(u),YieldTermStructureHandle(risk_free_curve), BlackVolTermStructureHandle(volatility)) \n",
    "print(process_3.riskFreeRate().zeroRate(1.0, Continuous).rate())\n",
    "print(process_3.dividendYield().zeroRate(1.0, Continuous).rate())"
   ]
  },
  {
   "cell_type": "code",
   "execution_count": 162,
   "id": "b96a60bf",
   "metadata": {},
   "outputs": [
    {
     "name": "stdout",
     "output_type": "stream",
     "text": [
      "4.337597216336533\n"
     ]
    }
   ],
   "source": [
    "option_1 = EuropeanOption(PlainVanillaPayoff(Option.Call, 100.0), EuropeanExercise(today+100))\n",
    "option_1.setPricingEngine(AnalyticEuropeanEngine(process_1))\n",
    "print(option_1.NPV())"
   ]
  },
  {
   "cell_type": "code",
   "execution_count": 163,
   "id": "f6c3b7df",
   "metadata": {},
   "outputs": [
    {
     "name": "stdout",
     "output_type": "stream",
     "text": [
      "4.191615257389808\n"
     ]
    }
   ],
   "source": [
    "option_2 = EuropeanOption(PlainVanillaPayoff(Option.Call, 100.0), EuropeanExercise(today+100))\n",
    "option_2.setPricingEngine(AnalyticEuropeanEngine(process_2))\n",
    "print(option_2.NPV())"
   ]
  },
  {
   "cell_type": "code",
   "execution_count": 164,
   "id": "d731087e",
   "metadata": {},
   "outputs": [
    {
     "name": "stdout",
     "output_type": "stream",
     "text": [
      "5.236133711607838e-11\n"
     ]
    }
   ],
   "source": [
    "option_3 = EuropeanOption(PlainVanillaPayoff(Option.Call, 200.0),EuropeanExercise(today+100))\n",
    "option_3.setPricingEngine(AnalyticEuropeanEngine(process_3))\n",
    "print(option_3.NPV())"
   ]
  },
  {
   "cell_type": "markdown",
   "id": "1d789bfd",
   "metadata": {},
   "source": [
    "### Greeks Calculations\n",
    "#### Calculate greeks using the options we constructed earlier."
   ]
  },
  {
   "cell_type": "code",
   "execution_count": 165,
   "id": "ece97e6c",
   "metadata": {},
   "outputs": [],
   "source": [
    "def greek(option, quote, dx): \n",
    "    x0 = quote.value()\n",
    "    quote.setValue(x0+dx) \n",
    "    P_u = option.NPV() \n",
    "    quote.setValue(x0-dx) \n",
    "    P_d = option.NPV() \n",
    "    quote.setValue(x0) \n",
    "    return (P_u-P_d)/(2*dx)"
   ]
  },
  {
   "attachments": {
    "image-4.png": {
     "image/png": "[encoded data removed]"
    }
   },
   "cell_type": "markdown",
   "id": "160cdeb8",
   "metadata": {},
   "source": [
    "### Measuring delta derivatives\n",
    "#### Let's measure the sensitivity of the options that we created using the standard delta hedging formula\n",
    "![image-4.png](attachment:image-4.png)"
   ]
  },
  {
   "cell_type": "code",
   "execution_count": 166,
   "id": "ac9c53c3",
   "metadata": {},
   "outputs": [
    {
     "name": "stdout",
     "output_type": "stream",
     "text": [
      "0.5315063340142601\n",
      "0.531506323010289\n"
     ]
    }
   ],
   "source": [
    "# First Option Delta change derivative\n",
    "print(option_1.delta())\n",
    "print(greek(option_1, u, 0.01))"
   ]
  },
  {
   "cell_type": "code",
   "execution_count": 167,
   "id": "9c944ce7",
   "metadata": {},
   "outputs": [
    {
     "name": "stdout",
     "output_type": "stream",
     "text": [
      "0.5195711146255227\n",
      "0.5195711052036867\n"
     ]
    }
   ],
   "source": [
    "# Second option Delta change derivative\n",
    "print(option_2.delta())\n",
    "print(greek(option_2, u, 0.01))"
   ]
  },
  {
   "cell_type": "code",
   "execution_count": 168,
   "id": "89310401",
   "metadata": {},
   "outputs": [
    {
     "name": "stdout",
     "output_type": "stream",
     "text": [
      "3.434651870104447e-11\n",
      "3.4346740558503026e-11\n"
     ]
    }
   ],
   "source": [
    "# Third option Delta change derivative\n",
    "print(option_3.delta())\n",
    "print(greek(option_3, u, 0.01))"
   ]
  },
  {
   "attachments": {
    "image.png": {
     "image/png": "[encoded data removed]"
    }
   },
   "cell_type": "markdown",
   "id": "b7d5cdb1",
   "metadata": {},
   "source": [
    "### Calculating Vega greeks for sensitivity for option price volatility\n",
    "#### Lets measure the vega with this formula:\n",
    "![image.png](attachment:image.png)"
   ]
  },
  {
   "cell_type": "code",
   "execution_count": 181,
   "id": "dbc6fe98",
   "metadata": {},
   "outputs": [
    {
     "name": "stdout",
     "output_type": "stream",
     "text": [
      "20.96050033373808\n",
      "20.960499909565833\n"
     ]
    }
   ],
   "source": [
    "# First option vega change derivative\n",
    "print(option_1.vega())\n",
    "print(greek(option_1, sigma, 0.001))"
   ]
  },
  {
   "cell_type": "code",
   "execution_count": 182,
   "id": "b5099289",
   "metadata": {},
   "outputs": [
    {
     "name": "stdout",
     "output_type": "stream",
     "text": [
      "20.938677847075486\n",
      "20.938677605407463\n"
     ]
    }
   ],
   "source": [
    "# Second option vega change derivative\n",
    "print(option_2.vega())\n",
    "print(greek(option_2, sigma, 0.001))"
   ]
  },
  {
   "cell_type": "code",
   "execution_count": 183,
   "id": "fd42b32d",
   "metadata": {},
   "outputs": [
    {
     "name": "stdout",
     "output_type": "stream",
     "text": [
      "20.938677847075486\n",
      "20.938677605407463\n"
     ]
    }
   ],
   "source": [
    "# Third option vega change derivative\n",
    "print(option_3.vega())\n",
    "print(greek(option_3, sigma, 0.001))"
   ]
  },
  {
   "attachments": {
    "image.png": {
     "image/png": "[encoded data removed]"
    }
   },
   "cell_type": "markdown",
   "id": "3c84f590",
   "metadata": {},
   "source": [
    "### Calculating rho Process\n",
    "#### We will measure the rho because the sensitivity of option price to interest rates.\n",
    "![image.png](attachment:image.png)"
   ]
  },
  {
   "cell_type": "code",
   "execution_count": 184,
   "id": "7c84bab7",
   "metadata": {},
   "outputs": [
    {
     "name": "stdout",
     "output_type": "stream",
     "text": [
      "13.559176718080407\n",
      "13.55917453385036\n"
     ]
    }
   ],
   "source": [
    "# First option rho change derivative\n",
    "print(option_1.rho())\n",
    "print(greek(option_1, r, 0.001))"
   ]
  },
  {
   "cell_type": "code",
   "execution_count": 185,
   "id": "b16d6322",
   "metadata": {},
   "outputs": [
    {
     "name": "stdout",
     "output_type": "stream",
     "text": [
      "13.268193390322908\n",
      "-1.1643375864700545\n"
     ]
    }
   ],
   "source": [
    "# Second option rho change derivative\n",
    "print(option_2.rho())\n",
    "print(greek(option_2, r, 0.001))"
   ]
  },
  {
   "cell_type": "code",
   "execution_count": 186,
   "id": "42bd8545",
   "metadata": {},
   "outputs": [
    {
     "name": "stdout",
     "output_type": "stream",
     "text": [
      "13.268193390322908\n",
      "-1.1643375864700545\n"
     ]
    }
   ],
   "source": [
    "# Third option rho change derivative\n",
    "print(option_3.rho())\n",
    "print(greek(option_3, r, 0.001))"
   ]
  },
  {
   "attachments": {
    "image.png": {
     "image/png": "[encoded data removed]"
    }
   },
   "cell_type": "markdown",
   "id": "78ce9f1b",
   "metadata": {},
   "source": [
    "##### The pricing engine works with the general process and p is calculated:\n",
    "![image.png](attachment:image.png)"
   ]
  },
  {
   "attachments": {
    "image.png": {
     "image/png": "[encoded data removed]"
    }
   },
   "cell_type": "markdown",
   "id": "7a567f7f",
   "metadata": {},
   "source": [
    "#### With that, the correct formula is:\n",
    "![image.png](attachment:image.png)"
   ]
  },
  {
   "cell_type": "code",
   "execution_count": 187,
   "id": "efb3dce5",
   "metadata": {},
   "outputs": [
    {
     "name": "stdout",
     "output_type": "stream",
     "text": [
      "-1.0026406521732891\n",
      "13.55917453385036\n"
     ]
    }
   ],
   "source": [
    "print(option_1.rho() + option_1.dividendRho())\n",
    "print(greek(option_1, r, 0.001))"
   ]
  },
  {
   "cell_type": "code",
   "execution_count": 188,
   "id": "ddeab493",
   "metadata": {},
   "outputs": [
    {
     "name": "stdout",
     "output_type": "stream",
     "text": [
      "-1.1643375714971693\n",
      "-1.1643375864700545\n"
     ]
    }
   ],
   "source": [
    "print(option_2.rho() + option_2.dividendRho())\n",
    "print(greek(option_2, r, 0.001))"
   ]
  },
  {
   "cell_type": "code",
   "execution_count": 189,
   "id": "cf2db298",
   "metadata": {},
   "outputs": [
    {
     "name": "stdout",
     "output_type": "stream",
     "text": [
      "-1.1643375714971693\n",
      "-1.1643375864700545\n"
     ]
    }
   ],
   "source": [
    "print(option_3.rho() + option_3.dividendRho())\n",
    "print(greek(option_3, r, 0.001))"
   ]
  },
  {
   "cell_type": "code",
   "execution_count": 190,
   "id": "a23f0887",
   "metadata": {},
   "outputs": [],
   "source": [
    "process_3 = BlackScholesMertonProcess(QuoteHandle(u),YieldTermStructureHandle(risk_free_curve),YieldTermStructureHandle(risk_free_curve), BlackVolTermStructureHandle(volatility))\n",
    "option_3 = EuropeanOption(PlainVanillaPayoff(Option.Call, 100.0), EuropeanExercise(today+100))\n",
    "option_3.setPricingEngine(AnalyticEuropeanEngine(process_3))"
   ]
  },
  {
   "cell_type": "code",
   "execution_count": 191,
   "id": "cb4e7bdd",
   "metadata": {},
   "outputs": [
    {
     "name": "stdout",
     "output_type": "stream",
     "text": [
      "0.5195711146255227\n",
      "0.5195711052036867\n"
     ]
    }
   ],
   "source": [
    "print(option_3.delta())\n",
    "print(greek(option_3, u, 0.01))"
   ]
  },
  {
   "cell_type": "code",
   "execution_count": 192,
   "id": "8535917f",
   "metadata": {},
   "outputs": [
    {
     "name": "stdout",
     "output_type": "stream",
     "text": [
      "13.268193390322908\n",
      "-1.1643375864700545\n",
      "-1.1643375714971693\n"
     ]
    }
   ],
   "source": [
    "print(option_3.rho())\n",
    "print(greek(option_3, r, 0.001))\n",
    "print(option_3.rho() + option_3.dividendRho())"
   ]
  }
 ],
 "metadata": {
  "kernelspec": {
   "display_name": "Python 3 (ipykernel)",
   "language": "python",
   "name": "python3"
  },
  "language_info": {
   "codemirror_mode": {
    "name": "ipython",
    "version": 3
   },
   "file_extension": ".py",
   "mimetype": "text/x-python",
   "name": "python",
   "nbconvert_exporter": "python",
   "pygments_lexer": "ipython3",
   "version": "3.9.7"
  }
 },
 "nbformat": 4,
 "nbformat_minor": 5
}
